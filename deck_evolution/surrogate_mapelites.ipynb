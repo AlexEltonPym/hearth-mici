{
  "cells": [
    {
      "cell_type": "markdown",
      "metadata": {
        "id": "PG6EZ_poQa0o"
      },
      "source": [
        "## **Offline surrogate map-elites**"
      ]
    },
    {
      "cell_type": "markdown",
      "metadata": {
        "id": "GawPfW2vQhS9"
      },
      "source": [
        "# Preprocess data"
      ]
    },
    {
      "cell_type": "code",
      "execution_count": null,
      "metadata": {
        "vscode": {
          "languageId": "python"
        }
      },
      "outputs": [
        {
          "ename": "",
          "evalue": "",
          "output_type": "error",
          "traceback": [
            "\u001b[1;31mFailed to start the Kernel. \n",
            "View Jupyter <a href='command:jupyter.viewOutput'>log</a> for further details."
          ]
        }
      ],
      "source": [
        "\n",
        "%pip install tqdm\n",
        "%pip install tensorflow_addons\n",
        "%pip install ipympl\n",
        "%pip install pandas\n",
        "%pip install sklearn\n",
        "import pandas as pd\n",
        "import random\n",
        "import matplotlib.pyplot as plt\n",
        "import numpy as np\n",
        "import numpy.ma as ma\n",
        "import json\n",
        "from IPython import display\n",
        "import pickle\n",
        "from sklearn.neural_network import MLPRegressor\n",
        "from sklearn.model_selection import train_test_split\n",
        "import tensorflow as tf\n",
        "import tensorflow_addons as tfa\n",
        "from itertools import combinations\n",
        "from tqdm import tqdm\n",
        "import ipympl\n",
        "import time\n"
      ]
    },
    {
      "cell_type": "code",
      "execution_count": 2,
      "metadata": {
        "vscode": {
          "languageId": "python"
        }
      },
      "outputs": [
        {
          "name": "stderr",
          "output_type": "stream",
          "text": [
            "2022-08-23 13:08:05.665386: I tensorflow/compiler/jit/xla_cpu_device.cc:41] Not creating XLA devices, tf_xla_enable_xla_devices not set\n",
            "2022-08-23 13:08:05.669663: I tensorflow/stream_executor/platform/default/dso_loader.cc:49] Successfully opened dynamic library libcuda.so.1\n",
            "2022-08-23 13:08:05.805870: E tensorflow/stream_executor/cuda/cuda_gpu_executor.cc:927] could not open file to read NUMA node: /sys/bus/pci/devices/0000:01:00.0/numa_node\n",
            "Your kernel may have been built without NUMA support.\n",
            "2022-08-23 13:08:05.805908: I tensorflow/core/common_runtime/gpu/gpu_device.cc:1720] Found device 0 with properties: \n",
            "pciBusID: 0000:01:00.0 name: NVIDIA GeForce RTX 3080 computeCapability: 8.6\n",
            "coreClock: 1.74GHz coreCount: 68 deviceMemorySize: 10.00GiB deviceMemoryBandwidth: 707.88GiB/s\n",
            "2022-08-23 13:08:05.805960: I tensorflow/stream_executor/platform/default/dso_loader.cc:49] Successfully opened dynamic library libcudart.so.10.1\n",
            "2022-08-23 13:08:05.806994: I tensorflow/stream_executor/platform/default/dso_loader.cc:49] Successfully opened dynamic library libcublas.so.10\n",
            "2022-08-23 13:08:05.807029: I tensorflow/stream_executor/platform/default/dso_loader.cc:49] Successfully opened dynamic library libcublasLt.so.10\n",
            "2022-08-23 13:08:05.807980: I tensorflow/stream_executor/platform/default/dso_loader.cc:49] Successfully opened dynamic library libcufft.so.10\n",
            "2022-08-23 13:08:05.808518: I tensorflow/stream_executor/platform/default/dso_loader.cc:49] Successfully opened dynamic library libcurand.so.10\n",
            "2022-08-23 13:08:05.809655: I tensorflow/stream_executor/platform/default/dso_loader.cc:49] Successfully opened dynamic library libcusolver.so.10\n",
            "2022-08-23 13:08:05.810212: I tensorflow/stream_executor/platform/default/dso_loader.cc:49] Successfully opened dynamic library libcusparse.so.10\n",
            "2022-08-23 13:08:05.812416: I tensorflow/stream_executor/platform/default/dso_loader.cc:49] Successfully opened dynamic library libcudnn.so.7\n",
            "2022-08-23 13:08:05.812854: E tensorflow/stream_executor/cuda/cuda_gpu_executor.cc:927] could not open file to read NUMA node: /sys/bus/pci/devices/0000:01:00.0/numa_node\n",
            "Your kernel may h"
          ]
        },
        {
          "data": {
            "text/plain": [
              "[PhysicalDevice(name='/physical_device:GPU:0', device_type='GPU')]"
            ]
          },
          "execution_count": 2,
          "metadata": {},
          "output_type": "execute_result"
        },
        {
          "name": "stderr",
          "output_type": "stream",
          "text": [
            "ave been built without NUMA support.\n",
            "2022-08-23 13:08:05.813125: E tensorflow/stream_executor/cuda/cuda_gpu_executor.cc:927] could not open file to read NUMA node: /sys/bus/pci/devices/0000:01:00.0/numa_node\n",
            "Your kernel may have been built without NUMA support.\n",
            "2022-08-23 13:08:05.813136: I tensorflow/core/common_runtime/gpu/gpu_device.cc:1862] Adding visible gpu devices: 0\n"
          ]
        }
      ],
      "source": [
        "tf.config.list_physical_devices('GPU')"
      ]
    },
    {
      "cell_type": "markdown",
      "metadata": {
        "id": "Tz16OtOTRqGk"
      },
      "source": [
        "Load simulation data from google sheets"
      ]
    },
    {
      "cell_type": "code",
      "execution_count": 3,
      "metadata": {
        "colab": {
          "base_uri": "https://localhost:8080/",
          "height": 1000
        },
        "id": "4fu4qPalQZyL",
        "outputId": "81598753-e985-47a5-e101-e963017c2784",
        "vscode": {
          "languageId": "python"
        }
      },
      "outputs": [],
      "source": [
        "data = pd.read_csv('https://docs.google.com/spreadsheets/d/e/2PACX-1vQQjntJiCUHUFAxlIwg8up-MMquUNfarDIZQPEfunP5S0Yr2qco8M0Om6XANEyJChS-aABMBsxnqv7n/pub?gid=1113108314&single=true&output=csv')"
      ]
    },
    {
      "cell_type": "markdown",
      "metadata": {
        "id": "nF9uxSJhR2IH"
      },
      "source": [
        "Get matchups from other players perspectives"
      ]
    },
    {
      "cell_type": "code",
      "execution_count": 4,
      "metadata": {
        "id": "b-YSCeenR-4Y",
        "vscode": {
          "languageId": "python"
        }
      },
      "outputs": [],
      "source": [
        "flipped_data = data[['enemy', 'player', 'health', 'winrate']]\n",
        "flipped_data.rename({'enemy': 'player', 'player': 'enemy'}, axis=1, inplace=True)\n",
        "flipped_data['health'] = flipped_data['health'].apply(lambda x: x * -1)\n",
        "flipped_data['winrate'] = flipped_data['winrate'].apply(lambda x: 1 - x)"
      ]
    },
    {
      "cell_type": "code",
      "execution_count": 5,
      "metadata": {
        "id": "BRYlCmGZUcau",
        "vscode": {
          "languageId": "python"
        }
      },
      "outputs": [],
      "source": [
        "combined = pd.concat([data, flipped_data], axis=0, ignore_index=True)\n"
      ]
    },
    {
      "cell_type": "markdown",
      "metadata": {
        "id": "Yxf8bHAkYKNe"
      },
      "source": [
        "Split decks to bag of cards"
      ]
    },
    {
      "cell_type": "code",
      "execution_count": 6,
      "metadata": {
        "id": "Ee6Iszi0cHKt",
        "vscode": {
          "languageId": "python"
        }
      },
      "outputs": [],
      "source": [
        "card_details = pd.read_csv('https://docs.google.com/spreadsheets/d/e/2PACX-1vQQjntJiCUHUFAxlIwg8up-MMquUNfarDIZQPEfunP5S0Yr2qco8M0Om6XANEyJChS-aABMBsxnqv7n/pub?gid=468949505&single=true&output=csv')"
      ]
    },
    {
      "cell_type": "code",
      "execution_count": 7,
      "metadata": {
        "id": "o83kDwFhYQYV",
        "vscode": {
          "languageId": "python"
        }
      },
      "outputs": [],
      "source": [
        "player_bag = combined['player'].astype(str).apply(lambda x: pd.Series(list(x))).astype(int)\n",
        "enemy_bag  = combined['enemy'].astype(str).apply(lambda x: pd.Series(list(x))).astype(int)\n"
      ]
    },
    {
      "cell_type": "code",
      "execution_count": 8,
      "metadata": {
        "id": "LxuzkTsRZNj8",
        "vscode": {
          "languageId": "python"
        }
      },
      "outputs": [],
      "source": [
        "simulations = pd.concat([combined[['health', 'winrate']], player_bag, enemy_bag], axis=1, ignore_index=True)\n",
        "\n",
        "player_card_names = [f\"p {card_name}\" for card_name in card_details['name']]\n",
        "enemy_card_names = [f\"e {card_name}\" for card_name in card_details['name']]\n",
        "simulations.columns = ['health', 'winrate'] + player_card_names + enemy_card_names"
      ]
    },
    {
      "cell_type": "markdown",
      "metadata": {
        "id": "aJwwrS-j6fwO"
      },
      "source": [
        "# Train regression model"
      ]
    },
    {
      "cell_type": "code",
      "execution_count": 9,
      "metadata": {
        "id": "zDN3J4cv6idD",
        "vscode": {
          "languageId": "python"
        }
      },
      "outputs": [],
      "source": [
        "sample = simulations.copy()\n",
        "winrate = sample['winrate']\n",
        "health = sample['health']\n",
        "sample = sample.drop('winrate', axis=1)\n",
        "sample = sample.drop('health', axis=1)\n",
        "\n",
        "X_train, X_test, y_train, y_test = train_test_split(sample, winrate, random_state=1)\n"
      ]
    },
    {
      "cell_type": "code",
      "execution_count": 10,
      "metadata": {
        "colab": {
          "base_uri": "https://localhost:8080/"
        },
        "id": "xcu0zXDK_5S1",
        "outputId": "177bba5e-3b2e-419d-a3b1-bbf68405da75",
        "vscode": {
          "languageId": "python"
        }
      },
      "outputs": [],
      "source": [
        "model = tf.keras.Sequential([tf.keras.layers.Dense(512, activation='relu', input_dim=306),\n",
        "                             tf.keras.layers.Dense(256, activation='relu'),\n",
        "                             tf.keras.layers.Dense(128, activation='relu'),\n",
        "                             tf.keras.layers.Dense(64, activation='relu'),\n",
        "                             tf.keras.layers.Dense(32, activation='relu'),\n",
        "                             tf.keras.layers.Dense(1, activation='relu'),\n",
        "\n",
        "                             ])\n",
        "\n",
        "model.summary()"
      ]
    },
    {
      "cell_type": "code",
      "execution_count": null,
      "metadata": {
        "colab": {
          "base_uri": "https://localhost:8080/"
        },
        "id": "lRu3yMOD_7FO",
        "outputId": "b09ea3db-fc26-49c4-fbc2-72e4ff7805d3",
        "vscode": {
          "languageId": "python"
        }
      },
      "outputs": [
        {
          "name": "stdout",
          "output_type": "stream",
          "text": [
            "Epoch 1/30\n",
            "1258/1258 [==============================] - 5s 3ms/step - loss: 0.0077 - mse: 0.0077 - r_square: 0.8004 - val_loss: 0.0053 - val_mse: 0.0053 - val_r_square: 0.8605\n",
            "Epoch 2/30\n",
            "1258/1258 [==============================] - 4s 3ms/step - loss: 0.0047 - mse: 0.0047 - r_square: 0.8794 - val_loss: 0.0051 - val_mse: 0.0051 - val_r_square: 0.8659\n",
            "Epoch 3/30\n",
            "1258/1258 [==============================] - 4s 3ms/step - loss: 0.0036 - mse: 0.0036 - r_square: 0.9064 - val_loss: 0.0048 - val_mse: 0.0048 - val_r_square: 0.8735\n"
          ]
        }
      ],
      "source": [
        "model.compile(optimizer='adam', loss=tf.keras.losses.MeanSquaredError(), metrics=['mse', tfa.metrics.r_square.RSquare()])\n",
        "stop_early = tf.keras.callbacks.EarlyStopping(monitor='val_r_square', patience=2)\n",
        "\n",
        "history = model.fit(x=X_train, y=y_train, epochs=30, validation_data=(X_test, y_test), callbacks=[stop_early])"
      ]
    },
    {
      "cell_type": "code",
      "execution_count": null,
      "metadata": {
        "colab": {
          "base_uri": "https://localhost:8080/",
          "height": 469
        },
        "id": "PF7XM0w3APbM",
        "outputId": "f069a731-a259-41ea-f05d-3c97cdc17d67",
        "vscode": {
          "languageId": "python"
        }
      },
      "outputs": [
        {
          "data": {
            "text/plain": [
              "<AxesSubplot:title={'center':'Regressor loss'}>"
            ]
          },
          "execution_count": 11,
          "metadata": {},
          "output_type": "execute_result"
        },
        {
          "data": {
            "application/vnd.jupyter.widget-view+json": {
              "model_id": "8c81f96620824c4cb39d3784224bab2f",
              "version_major": 2,
              "version_minor": 0
            },
            "image/png": "[encoded data removed]",
            "text/html": [
              "\n",
              "            <div style=\"display: inline-block;\">\n",
              "                <div class=\"jupyter-widgets widget-label\" style=\"text-align: center;\">\n",
              "                    Figure\n",
              "                </div>\n",
              "                <img src='data:image/png;base64,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' width=432.0/>\n",
              "            </div>\n",
              "        "
            ],
            "text/plain": [
              "Canvas(toolbar=Toolbar(toolitems=[('Home', 'Reset original view', 'home', 'home'), ('Back', 'Back to previous …"
            ]
          },
          "metadata": {},
          "output_type": "display_data"
        }
      ],
      "source": [
        "history_df = pd.DataFrame(history.history['loss'])\n",
        "history_df.plot(title='Regressor loss')"
      ]
    },
    {
      "cell_type": "markdown",
      "metadata": {
        "id": "WfyJb5JvYICm"
      },
      "source": [
        "## Map elites archive class"
      ]
    },
    {
      "cell_type": "code",
      "execution_count": null,
      "metadata": {
        "colab": {
          "base_uri": "https://localhost:8080/",
          "height": 235
        },
        "id": "IfcX86mJX_wg",
        "outputId": "f92dbe12-13fc-4870-b689-a799a57b062f",
        "vscode": {
          "languageId": "python"
        }
      },
      "outputs": [],
      "source": [
        "class Archive():\n",
        "  def __init__(self, x_range, y_range, num_buckets=10):\n",
        "    self.num_buckets = num_buckets\n",
        "    self.x_bin_ranges = []\n",
        "    self.y_bin_ranges = []\n",
        "    self.x_min, self.x_max = x_range\n",
        "    self.y_min, self.y_max = y_range\n",
        "    self.bins = [[{\"x\": x, \"y\": y, \"fitness\": None, \"sample\": pd.Series(dtype='float64')} for x in range(self.num_buckets)] for y in range(self.num_buckets)] \n",
        "    \n",
        "    for i in range(num_buckets):\n",
        "      self.x_bin_ranges.append(self.x_min+(i/num_buckets)*(self.x_max-self.x_min))\n",
        "      self.y_bin_ranges.append(self.y_min+(i/num_buckets)*(self.y_max-self.y_min))\n",
        "\n",
        "  def val_to_bin_index(self, value, dimension):\n",
        "    if dimension == 0:\n",
        "      for index, x in enumerate(self.x_bin_ranges):\n",
        "        if value < x:\n",
        "          return index-1\n",
        "      return len(self.x_bin_ranges)-1\n",
        "    elif dimension == 1:\n",
        "      for index, y in enumerate(self.y_bin_ranges):\n",
        "        if value < y:\n",
        "          return index-1\n",
        "      return len(self.y_bin_ranges)-1\n",
        "    \n",
        "  def add_sample(self, x, y, fitness, sample):\n",
        "    x_index = self.val_to_bin_index(x, 0)\n",
        "    y_index = self.val_to_bin_index(y, 1)\n",
        "\n",
        "    bin_fitness = self.bins[x_index][y_index]['fitness']\n",
        "    if bin_fitness == None or bin_fitness < fitness:\n",
        "      self.bins[x_index][y_index]['fitness'] = fitness\n",
        "      self.bins[x_index][y_index]['sample'] = sample\n",
        "\n",
        "  def clear(self):\n",
        "    self.bins = [[{\"x\": x, \"y\": y, \"fitness\": None, \"sample\": pd.Series()} for x in range(self.num_buckets)] for y in range(self.num_buckets)] \n",
        "\n",
        "  def get_elites(self, num_to_get=-1):\n",
        "    all_elites = []\n",
        "    for row in self.bins:\n",
        "      for elite in row:\n",
        "        if(elite['fitness'] != None):\n",
        "          all_elites.append(elite)\n",
        "    if num_to_get == -1:\n",
        "      return all_elites\n",
        "    else:\n",
        "      random.shuffle(all_elites)\n",
        "      return all_elites[:num_to_get]\n",
        "\n",
        "  def get_bins(self):\n",
        "    all_bins = []\n",
        "    for row in self.bins:\n",
        "      for elite in row:\n",
        "        all_bins.append({'x': elite['x'], 'y': elite['y'],\\\n",
        "                         'fitness': elite['fitness'], \\\n",
        "                         'sample': elite['sample']})\n",
        "    return all_bins\n",
        "  \n",
        "  def get_bins_as_string(self):\n",
        "    all_bins = []\n",
        "    for row in self.bins:\n",
        "      for elite in row:\n",
        "        \n",
        "        all_bins.append({'x': elite['x'], 'y': elite['y'],\\\n",
        "                         'fitness': str(elite['fitness']), \\\n",
        "                         'sample': elite['sample'].to_json()})\n",
        "    return all_bins\n",
        "\n",
        "  def get_most_fit(self):\n",
        "    return max(self.get_elites(), key = lambda x: x['fitness'])\n",
        "  \n",
        "  def get_average_fitness(self):\n",
        "    fitnesses = [elite['fitness'] for elite in self.get_elites()]\n",
        "    return mean(fitnesses)\n",
        "\n",
        "  def get_random(self):\n",
        "    return random.choice(self.get_elites())\n",
        "\n",
        "  def display(self, ax, fig, attribute_to_display='fitness'):\n",
        "    #%matplotlib widget\n",
        "    #%matplotlib inline\n",
        "    z = [[el[attribute_to_display] if el[attribute_to_display] != None else np.nan for el in row] for row in self.bins]\n",
        "    x = self.x_bin_ranges\n",
        "    y = self.y_bin_ranges\n",
        "    Zm = ma.masked_invalid(z)\n",
        "\n",
        "    \n",
        "    if attribute_to_display == 'winrate':\n",
        "      im = ax.pcolormesh(x, y, Zm.T[:-1, :-1], vmin=0, vmax=1, shading='flat')\n",
        "    else:\n",
        "      im = ax.pcolormesh(x, y, Zm.T[:-1, :-1], vmin=0, vmax=1, shading='flat')\n",
        "    fig.colorbar(im, ax=ax)\n",
        "    # ax.set_xticks(range(0,11))\n",
        "    # ax.set_yticks(range(0,21,2))\n",
        "    ax.set_xlabel('Mean mana-cost')\n",
        "    ax.set_ylabel('Mana-cost variance')\n",
        "\n",
        "\n",
        "\n",
        "  def save_as_json(self):\n",
        "    with open('data/map_archive.json', 'w', encoding='utf-8') as f:\n",
        "      archive_bins_as_bag = self.get_bins_as_string()\n",
        "      json.dump(archive_bins_as_bag, f, ensure_ascii=False)\n",
        "\n",
        "  def save_as_pickle(self):\n",
        "    with open('data/map_archive.pkl', 'wb') as f:\n",
        "      pickle.dump(self, f)\n"
      ]
    },
    {
      "cell_type": "markdown",
      "metadata": {},
      "source": [
        "# Utility functions"
      ]
    },
    {
      "cell_type": "code",
      "execution_count": null,
      "metadata": {
        "id": "PLkEWeNVSEVh",
        "vscode": {
          "languageId": "python"
        }
      },
      "outputs": [],
      "source": [
        "def generate_random_deck():\n",
        "  rand_deck = pd.Series(0.0, index=range(153))\n",
        "  for index, num in random.sample(list(enumerate(rand_deck)), 15):\n",
        "    rand_deck[index] = 1.0\n",
        "  return rand_deck\n"
      ]
    },
    {
      "cell_type": "code",
      "execution_count": null,
      "metadata": {
        "id": "VuZyOoKaSmYY",
        "vscode": {
          "languageId": "python"
        }
      },
      "outputs": [],
      "source": [
        "def generate_matchup(player_deck, enemy_deck):\n",
        "  matchup = pd.concat([player_deck, enemy_deck])\n",
        "  matchup.index=player_card_names+enemy_card_names\n",
        "  matchup = matchup.to_frame().T\n",
        "  return matchup\n"
      ]
    },
    {
      "cell_type": "code",
      "execution_count": null,
      "metadata": {
        "id": "0VPrT1IHh7GL",
        "vscode": {
          "languageId": "python"
        }
      },
      "outputs": [],
      "source": [
        "def perturb_deck(deck):\n",
        "\n",
        "  rand = random.random()\n",
        "  for exponent in range(6):\n",
        "    if rand < 1/(2**exponent):\n",
        "      num_swaps = exponent + 5\n",
        "\n",
        "  cards_in_deck = [(index, card) for index, card in enumerate(deck) if card == 1.0]\n",
        "  cards_not_in_deck = [(index, card) for index, card in enumerate(deck) if card == 0.0]\n",
        "\n",
        "  for index, removed_card in random.sample(cards_in_deck, num_swaps):\n",
        "    deck[index] = 0.0\n",
        "  for index, removed_card in random.sample(cards_not_in_deck, num_swaps):\n",
        "    deck[index] = 1.0\n",
        "  return deck\n",
        "\n",
        "# test_deck = generate_random_deck()\n",
        "# for index, card in enumerate(test_deck):\n",
        "#   if card == 1.0:\n",
        "#     print(index)\n",
        "# test_deck = perturb_deck(test_deck)\n",
        "# for index, card in enumerate(test_deck):\n",
        "#   if card == 1.0:\n",
        "#     print(index)"
      ]
    },
    {
      "cell_type": "code",
      "execution_count": null,
      "metadata": {
        "id": "zZKf1art8g-D",
        "vscode": {
          "languageId": "python"
        }
      },
      "outputs": [],
      "source": [
        "from statistics import mean, variance\n",
        "def get_mana_stats(deck):\n",
        "  mana_costs = []  \n",
        "  for index, count in enumerate(deck):\n",
        "    if count == 1.0:\n",
        "      mana_costs.append(float(card_details['mana'][index]))\n",
        "  return (mean(mana_costs), variance(mana_costs))\n",
        "\n"
      ]
    },
    {
      "cell_type": "code",
      "execution_count": null,
      "metadata": {
        "id": "J11VY6T5BtJr",
        "vscode": {
          "languageId": "python"
        }
      },
      "outputs": [],
      "source": [
        "def get_matchups(population, matchup_size):\n",
        "  random.shuffle(population)\n",
        "  matchups = []\n",
        "  \n",
        "  for skip_size in range(matchup_size):\n",
        "    for index, player in enumerate(population):\n",
        "      enemy = population[(index+skip_size)%len(population)]\n",
        "      matchups.append((player, enemy))\n",
        "  return matchups"
      ]
    },
    {
      "cell_type": "code",
      "execution_count": null,
      "metadata": {
        "id": "12HBTQCLZIvI",
        "vscode": {
          "languageId": "python"
        }
      },
      "outputs": [],
      "source": [
        "def convert_decklist_to_bag(decklist):\n",
        "  deck_as_bag = pd.Series(0.0, index=range(153))\n",
        "\n",
        "  for card in decklist:\n",
        "    index = card_details.loc[card_details['name'] == card].index[0]\n",
        "    deck_as_bag[index] = 1.0\n",
        "\n",
        "  return deck_as_bag\n"
      ]
    },
    {
      "cell_type": "code",
      "execution_count": null,
      "metadata": {
        "id": "7_ZWn2pRhS7a",
        "vscode": {
          "languageId": "python"
        }
      },
      "outputs": [],
      "source": [
        "def convert_bag_to_decklist(bag):\n",
        "  deck_as_list = []\n",
        "\n",
        "  for index, count in enumerate(bag):\n",
        "    if count == 1.0:\n",
        "      deck_as_list.append(card_details['name'][index])\n",
        "\n",
        "  return deck_as_list"
      ]
    },
    {
      "cell_type": "code",
      "execution_count": null,
      "metadata": {
        "id": "yQfOdgH3Zo17",
        "vscode": {
          "languageId": "python"
        }
      },
      "outputs": [],
      "source": [
        "def test_decklist(decklist):\n",
        "  decklist = convert_decklist_to_bag(decklist)\n",
        "  fitnesses = []\n",
        "  for i in range(100):\n",
        "    enemy = generate_random_deck()\n",
        "    matchup = generate_matchup(decklist, enemy)\n",
        "    # matchup = np.asarray(matchup).astype('float32')\n",
        "    fitnesses.append(model.predict(matchup, verbose=0)[0][0])\n",
        "\n",
        "  return mean(fitnesses)\n"
      ]
    },
    {
      "cell_type": "markdown",
      "metadata": {
        "id": "iRb3Bk4kbexa"
      },
      "source": [
        "## Test decks"
      ]
    },
    {
      "cell_type": "code",
      "execution_count": null,
      "metadata": {
        "id": "BrqJPe7zYElI",
        "vscode": {
          "languageId": "python"
        }
      },
      "outputs": [
        {
          "data": {
            "text/plain": [
              "0.56887877"
            ]
          },
          "execution_count": 21,
          "metadata": {},
          "output_type": "execute_result"
        }
      ],
      "source": [
        "basic_hunter = ['Arcane Shot',\n",
        "'Stonetusk Boar',\n",
        "'Timber Wolf',\n",
        "'Tracking',\n",
        "'Bloodfen Raptor',\n",
        "'River Crocolisk',\n",
        "'Ironforge Rifleman',\n",
        "'Raid Leader',\n",
        "'Razorfen Hunter',\n",
        "'Silverback Patriarch',\n",
        "'Houndmaster',\n",
        "'Multi-Shot',\n",
        "'Oasis Snapjaw',\n",
        "'Stormpike Commando',\n",
        "'Core Hound']\n",
        "\n",
        "\n",
        "test_decklist(basic_hunter)"
      ]
    },
    {
      "cell_type": "code",
      "execution_count": null,
      "metadata": {
        "id": "GmS5S_pUZGcl",
        "vscode": {
          "languageId": "python"
        }
      },
      "outputs": [
        {
          "data": {
            "text/plain": [
              "0.8318948"
            ]
          },
          "execution_count": 22,
          "metadata": {},
          "output_type": "execute_result"
        }
      ],
      "source": [
        "#https://hearthstone-decks.net/face-hunter-338-legend-risewashere_hs-score-47-21/\n",
        "\n",
        "meta_face_hunter = ['Abusive Sergeant',\n",
        "                    'Arcane Shot',\n",
        "                    'Argent Squire',\n",
        "                    'Leper Gnome',\n",
        "                    'Tracking',\n",
        "                    'Worgen Infiltrator',\n",
        "                    'Explosive Trap',\n",
        "                    'Knife Juggler',\n",
        "                    'Misdirection',\n",
        "                    'Animal Companion',\n",
        "                    'Arcane Golem',\n",
        "                    'Eaglehorn Bow',\n",
        "                    'Kill Command',\n",
        "                    'Unleash the Hounds',\n",
        "                    'Wolfrider']\n",
        "\n",
        "test_decklist(meta_face_hunter)"
      ]
    },
    {
      "cell_type": "code",
      "execution_count": null,
      "metadata": {
        "id": "PMubPoRNaoah",
        "vscode": {
          "languageId": "python"
        }
      },
      "outputs": [
        {
          "name": "stdout",
          "output_type": "stream",
          "text": [
            "1/1 [==============================] - 0s 12ms/step\n"
          ]
        },
        {
          "data": {
            "text/plain": [
              "array([[0.77581275]], dtype=float32)"
            ]
          },
          "execution_count": 23,
          "metadata": {},
          "output_type": "execute_result"
        }
      ],
      "source": [
        "basic = convert_decklist_to_bag(basic_hunter)\n",
        "meta = convert_decklist_to_bag(meta_face_hunter)\n",
        "\n",
        "model.predict(generate_matchup(meta, basic))"
      ]
    },
    {
      "cell_type": "markdown",
      "metadata": {
        "id": "Wd_ZYfXdQTOi"
      },
      "source": [
        "# Map elites"
      ]
    },
    {
      "cell_type": "markdown",
      "metadata": {
        "id": "yLGmfuDCcKH4"
      },
      "source": [
        "Initial population of random decks"
      ]
    },
    {
      "cell_type": "code",
      "execution_count": null,
      "metadata": {
        "id": "LA_nW1A8fOdW",
        "vscode": {
          "languageId": "python"
        }
      },
      "outputs": [],
      "source": [
        "def surrogate_map_elites_initial_population():\n",
        "  map_archive = Archive((1, 6), (0, 20), num_buckets=20)\n",
        "\n",
        "  population = [{'index': index, 'deck': generate_random_deck(), 'fitness': 0} for index, deck_index in enumerate(range(population_size))]\n",
        "\n",
        "  matchups = get_matchups(population, matchup_size)\n",
        "\n",
        "  # for player, enemy in tqdm(matchups):\n",
        "  #   fitness = model.predict(generate_matchup(player['deck'], enemy['deck']))[0][0]\n",
        "  #   population[player['index']]['fitness'] += fitness / (matchup_size*2)\n",
        "  #   population[enemy['index']]['fitness'] += fitness / (matchup_size*2)\n",
        "  for player in population:\n",
        "    fitness = model.predict(generate_matchup(player['deck'], meta), verbose=0)[0][0]\n",
        "    population[player['index']]['fitness'] = fitness\n",
        "\n",
        "  for player in population:\n",
        "    mana_mean, mana_variance = get_mana_stats(player['deck'])\n",
        "    map_archive.add_sample(mana_mean, mana_variance, player['fitness'], player['deck'])\n",
        "\n",
        "  return map_archive"
      ]
    },
    {
      "cell_type": "markdown",
      "metadata": {
        "id": "Ci1k_25TcM3g"
      },
      "source": [
        "Iterativly perturb elites for next generation"
      ]
    },
    {
      "cell_type": "code",
      "execution_count": null,
      "metadata": {
        "id": "bkH43m0lfiCM",
        "vscode": {
          "languageId": "python"
        }
      },
      "outputs": [],
      "source": [
        "def surrogate_map_elites_iteration(map_archive, fitness_history, fitness_average_history):\n",
        "  population = [{'index': index, 'deck': perturb_deck(elite['sample']), 'fitness': 0} for index, elite in enumerate(map_archive.get_elites(num_to_get = max_elites))]\n",
        "\n",
        "  matchups = get_matchups(population, matchup_size)\n",
        "\n",
        "  # for player, enemy in matchups:\n",
        "  #   fitness = model.predict(generate_matchup(player['deck'], enemy['deck']))[0][0]\n",
        "  #   population[player['index']]['fitness'] += fitness / (matchup_size*2)\n",
        "  #   population[enemy['index']]['fitness'] += fitness / (matchup_size*2)\n",
        "  for player in population:\n",
        "\n",
        "    fitness = model.predict(generate_matchup(player['deck'], meta), verbose=0)[0][0]\n",
        "    population[player['index']]['fitness'] = fitness\n",
        "\n",
        "  for player in population:\n",
        "    mana_mean, mana_variance = get_mana_stats(player['deck'])\n",
        "    map_archive.add_sample(mana_mean, mana_variance, player['fitness'], player['deck'])\n",
        "\n",
        "  fitness_history.append(map_archive.get_most_fit()['fitness'])\n",
        "  fitness_average_history.append(map_archive.get_average_fitness())\n",
        "\n"
      ]
    },
    {
      "cell_type": "code",
      "execution_count": null,
      "metadata": {
        "vscode": {
          "languageId": "python"
        }
      },
      "outputs": [
        {
          "data": {
            "application/vnd.jupyter.widget-view+json": {
              "model_id": "823543f515304549a7a269492630dffa",
              "version_major": 2,
              "version_minor": 0
            },
            "image/png": "[encoded data removed]",
            "text/html": [
              "\n",
              "            <div style=\"display: inline-block;\">\n",
              "                <div class=\"jupyter-widgets widget-label\" style=\"text-align: center;\">\n",
              "                    Figure\n",
              "                </div>\n",
              "                <img src='data:image/png;base64,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' width=360.0/>\n",
              "            </div>\n",
              "        "
            ],
            "text/plain": [
              "Canvas(toolbar=Toolbar(toolitems=[('Home', 'Reset original view', 'home', 'home'), ('Back', 'Back to previous …"
            ]
          },
          "metadata": {},
          "output_type": "display_data"
        },
        {
          "name": "stderr",
          "output_type": "stream",
          "text": [
            "100%|██████████| 100/100 [06:05<00:00,  3.66s/it]\n"
          ]
        }
      ],
      "source": [
        "population_size = 100\n",
        "matchup_size = 100\n",
        "max_elites = 120\n",
        "num_iterations = 1\n",
        "load_from_pickle = True\n",
        "\n",
        "\n",
        "if load_from_pickle:\n",
        "  with open('data/map_archive.pkl', 'rb') as pickled_archive:\n",
        "    map_archive = pickle.load(pickled_archive)\n",
        "  with open('data/fitness_history.pkl', 'rb') as fitness_history_pickle:\n",
        "    fitness_history = pickle.load(fitness_history_pickle)\n",
        "  with open('data/fitness_average_history.pkl', 'rb') as fitness_average_history_pickle:\n",
        "    fitness_average_history = pickle.load(fitness_average_history_pickle)\n",
        "else:\n",
        "  map_archive = surrogate_map_elites_initial_population()\n",
        "  fitness_history = []\n",
        "  fitness_average_history = []\n",
        "\n",
        "\n",
        "for i in tqdm(range(num_iterations)):\n",
        "  surrogate_map_elites_iteration(map_archive, fitness_history, fitness_average_history)\n",
        "\n",
        "  fitness_combined = pd.concat([pd.DataFrame(fitness_history), pd.DataFrame(fitness_average_history)], axis=1)\n",
        "  fitness_combined.columns = ['best_fitness', 'average_fitness']\n",
        "\n",
        "  fig, axs = plt.subplots(2, figsize=(5, 10), gridspec_kw={'height_ratios': [1, 1]})\n",
        "\n",
        "  map_archive.display(axs[0], fig, 'fitness')\n",
        "\n",
        "  fitness_combined.plot(kind='line', ax=axs[1])\n",
        "  display.clear_output(wait=True)\n",
        "  plt.rcParams.update({'text.color': 'white', 'axes.labelcolor': 'white', 'xtick.color': 'white', 'ytick.color': 'white', 'legend.labelcolor': 'black'})\n",
        "  plt.show()\n",
        "  \n",
        "\n",
        "  with open('data/fitness_history.pkl', 'wb') as fitness_history_pickle:\n",
        "    pickle.dump(fitness_history, fitness_history_pickle)\n",
        "  with open('data/fitness_average_history.pkl', 'wb') as fitness_average_history_pickle:\n",
        "    pickle.dump(fitness_average_history, fitness_average_history_pickle)\n",
        "  map_archive.save_as_pickle()"
      ]
    },
    {
      "cell_type": "code",
      "execution_count": null,
      "metadata": {
        "id": "B4W-JzxxhItP",
        "vscode": {
          "languageId": "python"
        }
      },
      "outputs": [
        {
          "ename": "",
          "evalue": "",
          "output_type": "error",
          "traceback": [
            "\u001b[1;31mCanceled future for execute_request message before replies were done"
          ]
        }
      ],
      "source": [
        "most_fit = map_archive.get_most_fit()\n",
        "\n",
        "print(f\"Fitness: {most_fit['fitness']}\")\n",
        "convert_bag_to_decklist(most_fit['sample'])"
      ]
    },
    {
      "cell_type": "code",
      "execution_count": null,
      "metadata": {
        "vscode": {
          "languageId": "python"
        }
      },
      "outputs": [],
      "source": [
        "print(len(map_archive.get_elites()))"
      ]
    }
  ],
  "metadata": {
    "accelerator": "TPU",
    "colab": {
      "collapsed_sections": [
        "GawPfW2vQhS9",
        "aJwwrS-j6fwO"
      ],
      "name": "surrogate mapelites.ipynb",
      "provenance": []
    },
    "gpuClass": "standard",
    "kernelspec": {
      "display_name": "Python 3",
      "language": "python",
      "name": "python3"
    },
    "vscode": {
      "interpreter": {
        "hash": "7ddae135593aa504ff28235da4cd29536ac61f7403a7e9e46bb91d154e3aa478"
      }
    }
  },
  "nbformat": 4,
  "nbformat_minor": 0
}
